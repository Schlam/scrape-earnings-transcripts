{
 "cells": [
  {
   "cell_type": "markdown",
   "metadata": {},
   "source": [
    "# Fixing the script\n",
    "---\n",
    "\n",
    "The SeekingAlpha page changed in a few ways that broke my code, \n",
    "so here's a notebook investigating the issue"
   ]
  },
  {
   "cell_type": "code",
   "execution_count": 42,
   "metadata": {
    "ExecuteTime": {
     "end_time": "2020-11-29T07:55:05.598969Z",
     "start_time": "2020-11-29T07:55:05.592596Z"
    }
   },
   "outputs": [
    {
     "data": {
      "text/plain": [
       "'https://seekingalpha.com/earnings/earnings-call-transcripts?sector=most-popular'"
      ]
     },
     "execution_count": 42,
     "metadata": {},
     "output_type": "execute_result"
    }
   ],
   "source": [
    "import scraping\n",
    "\n",
    "URL = scraping.URL\n",
    "URL"
   ]
  },
  {
   "cell_type": "code",
   "execution_count": 6,
   "metadata": {
    "ExecuteTime": {
     "end_time": "2020-11-29T07:20:08.075795Z",
     "start_time": "2020-11-29T07:20:02.604776Z"
    }
   },
   "outputs": [],
   "source": [
    "from bs4 import BeautifulSoup as Soup\n",
    "\n",
    "\n",
    "browser = scraping.config_browser()\n",
    "\n",
    "browser.visit(URL)\n",
    "soup = Soup(browser.html, 'html.parser')"
   ]
  },
  {
   "cell_type": "code",
   "execution_count": 43,
   "metadata": {
    "ExecuteTime": {
     "end_time": "2020-11-29T07:55:20.234992Z",
     "start_time": "2020-11-29T07:55:20.213954Z"
    }
   },
   "outputs": [
    {
     "data": {
      "text/plain": [
       "['https://seekingalpha.com/article/4391150-arrowhead-pharmaceuticals-inc-arwr-ceo-christopher-anzalone-on-q4-2020-results-earnings-call',\n",
       " 'https://seekingalpha.com/article/4389527-palantir-technologies-inc-pltr-q3-2020-results-earnings-call-transcript',\n",
       " 'https://seekingalpha.com/article/4384124-ceragon-networks-ltd-crnt-ceo-ira-palti-on-q3-2020-results-earnings-call-transcript',\n",
       " 'https://seekingalpha.com/article/4390417-knot-offshore-partners-lp-knop-ceo-gary-chapman-on-q3-2020-results-earnings-call-transcript',\n",
       " 'https://seekingalpha.com/article/4390644-t-inc-t-presents-morgan-stanley-tmt-broker-conference-call-transcript']"
      ]
     },
     "execution_count": 43,
     "metadata": {},
     "output_type": "execute_result"
    }
   ],
   "source": [
    "transcript_elements = scraping.get_elements(soup)\n",
    "transcript_urls = scraping.get_urls(transcript_elements)\n",
    "\n",
    "\n",
    "transcript_urls[:5]"
   ]
  },
  {
   "cell_type": "code",
   "execution_count": 10,
   "metadata": {
    "ExecuteTime": {
     "end_time": "2020-11-29T07:23:20.699258Z",
     "start_time": "2020-11-29T07:23:20.693315Z"
    }
   },
   "outputs": [],
   "source": [
    "from scraping import get_tickers,get_dates,get_filenames\n",
    "\n",
    "\n",
    "# Extract ticker symbol, and date of earnings call \n",
    "ticker_symbols = get_tickers(transcript_elements)\n",
    "call_dates = get_dates(transcript_urls)\n",
    "\n",
    "# Generate filenames for each transcript using date/symbol\n",
    "filenames = get_filenames(ticker_symbols, call_dates)"
   ]
  },
  {
   "cell_type": "code",
   "execution_count": 44,
   "metadata": {
    "ExecuteTime": {
     "end_time": "2020-11-29T07:55:47.338444Z",
     "start_time": "2020-11-29T07:55:47.331920Z"
    }
   },
   "outputs": [
    {
     "data": {
      "text/plain": [
       "['ARWR', 'PLTR', 'CRNT', 'KNOP', 'T']"
      ]
     },
     "execution_count": 44,
     "metadata": {},
     "output_type": "execute_result"
    }
   ],
   "source": [
    "ticker_symbols[:5]"
   ]
  },
  {
   "cell_type": "code",
   "execution_count": 47,
   "metadata": {
    "ExecuteTime": {
     "end_time": "2020-11-29T07:56:28.401058Z",
     "start_time": "2020-11-29T07:56:28.394553Z"
    },
    "scrolled": true
   },
   "outputs": [
    {
     "data": {
      "text/plain": [
       "['q4_2020', 'ps://se', 'q3_2020', 'q3_2020', 'ps://se']"
      ]
     },
     "execution_count": 47,
     "metadata": {},
     "output_type": "execute_result"
    }
   ],
   "source": [
    "call_dates[:5]"
   ]
  },
  {
   "cell_type": "code",
   "execution_count": 13,
   "metadata": {
    "ExecuteTime": {
     "end_time": "2020-11-29T07:25:20.262786Z",
     "start_time": "2020-11-29T07:25:20.235289Z"
    }
   },
   "outputs": [
    {
     "name": "stdout",
     "output_type": "stream",
     "text": [
      "https://seekingalpha.com/article/4391150-arrowhead-pharmaceuticals-inc-arwr-ceo-christopher-anzalone-on-q4-2020-results-earnings-call\n",
      "https://seekingalpha.com/article/4389527-palantir-technologies-inc-pltr-q3-2020-results-earnings-call-transcript\n",
      "https://seekingalpha.com/article/4384124-ceragon-networks-ltd-crnt-ceo-ira-palti-on-q3-2020-results-earnings-call-transcript\n",
      "https://seekingalpha.com/article/4390417-knot-offshore-partners-lp-knop-ceo-gary-chapman-on-q3-2020-results-earnings-call-transcript\n",
      "https://seekingalpha.com/article/4390644-t-inc-t-presents-morgan-stanley-tmt-broker-conference-call-transcript\n",
      "https://seekingalpha.com/article/4391383-nordstrom-inc-jwn-ceo-erik-nordstrom-on-q3-2020-results-earnings-call-transcript\n",
      "https://seekingalpha.com/article/4391064-baozun-inc-bzun-ceo-vincent-wenbin-qiu-on-q3-2020-results-earnings-call-transcript\n",
      "https://seekingalpha.com/article/4382943-apple-inc-aapl-ceo-tim-cook-on-q4-2020-results-earnings-call-transcript\n",
      "https://seekingalpha.com/article/4391145-nutanix-inc-ntnx-ceo-dheeraj-pandey-on-q1-2021-results-earnings-call-transcript\n",
      "https://seekingalpha.com/article/4387736-jumia-technologies-jmia-management-on-q3-2020-results-earnings-call-transcript\n",
      "https://seekingalpha.com/article/4391594-frontlines-fro-ceo-robert-macleod-on-q3-2020-results-earnings-call-transcript\n",
      "https://seekingalpha.com/article/4390179-nvidia-corporation-nvda-ceo-jensen-huang-on-q3-2021-results-earnings-call-transcript\n",
      "https://seekingalpha.com/article/4390429-pershing-square-holdings-ltd-s-pshzf-ceo-william-ackman-on-q3-2020-results-earnings-call\n",
      "https://seekingalpha.com/article/4391084-daqo-new-energys-dq-ceo-longgen-zhang-on-q3-2020-results-earnings-call-transcript\n",
      "https://seekingalpha.com/article/4391427-autodesk-inc-s-adsk-ceo-andrew-anagnost-on-q3-2021-results-earnings-call-transcript\n",
      "https://seekingalpha.com/article/4391388-vmware-inc-vmw-ceo-pat-gelsinger-on-q3-2021-results-earnings-call-transcript\n",
      "https://seekingalpha.com/article/4391369-monmouth-real-estate-investment-corporation-mnr-ceo-michael-landy-on-q4-2020-results-earnings\n",
      "https://seekingalpha.com/article/4391405-dell-technologies-dell-q3-2021-results-earnings-call-transcript\n",
      "https://seekingalpha.com/article/4389924-nio-limited-nio-ceo-william-li-on-q3-2020-results-earnings-call-transcript\n",
      "https://seekingalpha.com/article/4391354-best-buy-co-inc-bby-ceo-corie-barry-on-q3-2021-results-earnings-call-transcript\n",
      "https://seekingalpha.com/article/4385457-corecivic-inc-cxw-ceo-damon-hininger-on-q3-2020-results-earnings-call-transcript\n",
      "https://seekingalpha.com/article/4391072-niu-technologies-niu-ceo-yan-li-on-q3-2020-results-earnings-call-transcript\n",
      "https://seekingalpha.com/article/4382730-overstock-com-inc-ostk-ceo-jonathan-johnson-on-q3-2020-results-earnings-call-transcript\n",
      "https://seekingalpha.com/article/4387392-fulgent-genetics-inc-s-flgt-ceo-ming-hsieh-on-q3-2020-results-earnings-call-transcript\n",
      "https://seekingalpha.com/article/4391412-planet-13-holdings-inc-plnhf-q3-2020-results-earnings-call-transcript\n",
      "https://seekingalpha.com/article/4389904-sea-limited-se-ceo-forrest-li-on-q3-2020-results-earnings-call-transcript\n",
      "https://seekingalpha.com/article/4362707-apple-inc-aapl-ceo-tim-cook-on-q3-2020-results-earnings-call-transcript\n",
      "https://seekingalpha.com/article/4391410-pure-storage-inc-pstg-ceo-charlie-giancarlo-on-q3-2021-results-earnings-call-transcript\n",
      "https://seekingalpha.com/article/4390777-helmerich-payne-inc-hp-ceo-john-lindsay-on-q4-2020-results-earnings-call-transcript\n",
      "https://seekingalpha.com/article/4391365-analog-devices-inc-s-adi-ceo-vincent-roche-on-q4-2020-results-earnings-call-transcript\n",
      "https://seekingalpha.com/article/4390776-gsx-techedu-incs-gsx-ceo-larry-chen-on-q3-2020-results-earnings-call-transcript\n",
      "https://seekingalpha.com/article/4391293-medtronic-plcs-mdt-ceo-geoffrey-martha-on-q2-2021-results-earnings-call-transcript\n",
      "https://seekingalpha.com/article/4391116-twist-bioscience-corporations-twst-ceo-emily-leproust-on-q4-2020-results-earnings-call\n",
      "https://seekingalpha.com/article/4390740-magellan-midstream-partners-l-p-mmp-presents-rbc-midstream-and-energy-infrastructure\n",
      "https://seekingalpha.com/article/4389817-comstock-mining-inc-lode-ceo-corrado-de-gasperis-on-q3-2020-results-earnings-call-transcript\n",
      "https://seekingalpha.com/article/4391323-xiaomi-corporation-xiacf-ceo-lei-jun-on-q3-2020-results-earnings-call-transcript\n",
      "https://seekingalpha.com/article/4387421-simon-property-groups-spg-ceo-david-simon-on-q3-2020-results-earnings-call-transcript\n",
      "https://seekingalpha.com/article/4341792-apple-inc-aapl-ceo-tim-cook-on-q2-2020-results-earnings-call-transcript\n",
      "https://seekingalpha.com/article/4389495-widepoint-corporation-wyy-ceo-jin-kang-on-q3-2020-results-earnings-call-transcript\n",
      "https://seekingalpha.com/article/4389580-baidu-inc-bidu-ceo-robin-li-on-q3-2020-results-earnings-call-transcript\n",
      "https://seekingalpha.com/article/4319666-apple-inc-aapl-ceo-tim-cook-on-q1-2020-results-earnings-call-transcript\n",
      "https://seekingalpha.com/article/4391123-prosus-n-v-s-prosy-ceo-bob-van-dijk-on-q2-2021-results-earnings-call-transcript\n",
      "https://seekingalpha.com/article/4341637-freddie-mac-fmcc-ceo-david-brickman-on-q1-2020-results-earnings-call-transcript\n",
      "https://seekingalpha.com/article/4382712-freddie-macs-fmcc-ceo-david-brickman-on-q3-2020-results-earnings-call-transcript\n",
      "https://seekingalpha.com/article/4362354-freddie-macs-fmcc-ceo-david-brickman-on-q2-2020-results-earnings-call-transcript\n",
      "https://seekingalpha.com/article/4390527-workday-inc-wday-ceo-aneel-bhusri-on-q3-2021-results-earnings-call-transcript\n",
      "https://seekingalpha.com/article/4323882-freddie-mac-fmcc-ceo-david-brickman-on-q4-2019-results-earnings-call-transcript\n",
      "https://seekingalpha.com/article/4391358-dollar-tree-inc-dltr-ceo-mike-witynski-on-q3-2020-results-earnings-call-transcript\n",
      "https://seekingalpha.com/article/4390392-futu-holdings-limited-futu-ceo-leaf-li-on-q3-2020-results-earnings-call-transcript\n",
      "https://seekingalpha.com/article/4386384-velodyne-lidar-inc-vldr-ceo-anand-gopalan-on-q3-2020-results-earnings-call\n"
     ]
    }
   ],
   "source": [
    "\n",
    "def get_datesV2(urls):\n",
    "    \"\"\"\n",
    "    \n",
    "    Extract quarter/fiscal year from the url address\n",
    "    \n",
    "    \"\"\"\n",
    "\n",
    "    dates = []\n",
    "\n",
    "    for url in urls:\n",
    "        print(url)\n",
    "        str_index = url.find('on-q')\n",
    "        date = url[str_index + 3:str_index + 7]\n",
    "        date = url.replace('-','_')\n",
    "\n",
    "        dates.append(date)\n",
    "    \n",
    "    return dates\n",
    "\n",
    "\n",
    "\n",
    "dates = get_datesV2(transcript_urls)"
   ]
  },
  {
   "cell_type": "code",
   "execution_count": 15,
   "metadata": {
    "ExecuteTime": {
     "end_time": "2020-11-29T07:26:45.952827Z",
     "start_time": "2020-11-29T07:26:45.943735Z"
    }
   },
   "outputs": [
    {
     "name": "stdout",
     "output_type": "stream",
     "text": [
      "Help on function match in module re:\n",
      "\n",
      "match(pattern, string, flags=0)\n",
      "    Try to apply the pattern at the start of the string, returning\n",
      "    a Match object, or None if no match was found.\n",
      "\n"
     ]
    }
   ],
   "source": [
    "import re\n",
    "\n",
    "help(re.match)"
   ]
  },
  {
   "cell_type": "code",
   "execution_count": 26,
   "metadata": {
    "ExecuteTime": {
     "end_time": "2020-11-29T07:30:21.111712Z",
     "start_time": "2020-11-29T07:30:21.103407Z"
    }
   },
   "outputs": [
    {
     "name": "stdout",
     "output_type": "stream",
     "text": [
      "Pattern:  {'on\\\\-q\\\\d{1}'}\n",
      "URL:  https://seekingalpha.com/article/4391150-arrowhead-pharmaceuticals-inc-arwr-ceo-christopher-anzalone-on-q4-2020-results-earnings-call\n",
      "Match:  None\n"
     ]
    }
   ],
   "source": [
    "pattern = r'on\\-q\\d{1}'\n",
    "\n",
    "match = re.match(pattern,transcript_urls[0])\n",
    "print(\"Pattern: \",{pattern})\n",
    "print('URL: ',transcript_urls[0])\n",
    "print(\"Match: \", match)"
   ]
  },
  {
   "cell_type": "code",
   "execution_count": 38,
   "metadata": {
    "ExecuteTime": {
     "end_time": "2020-11-29T07:40:06.000276Z",
     "start_time": "2020-11-29T07:40:05.983731Z"
    }
   },
   "outputs": [
    {
     "name": "stdout",
     "output_type": "stream",
     "text": [
      "100\n"
     ]
    },
    {
     "data": {
      "text/plain": [
       "['q4_2020']"
      ]
     },
     "execution_count": 38,
     "metadata": {},
     "output_type": "execute_result"
    }
   ],
   "source": [
    "def get_dates(urls):\n",
    "    \"\"\"\n",
    "    \n",
    "    Extract quarter/fiscal year from the url address\n",
    "    \n",
    "    \"\"\"\n",
    "    \n",
    "    dates = []\n",
    "    \n",
    "    for url in urls:\n",
    "        \n",
    "        # Get index for str pattern preceding quarter/date\n",
    "        index = url.find('-on-q')\n",
    "        \n",
    "        if index == -1:\n",
    "            \n",
    "            dates.append('unknown_date')\n",
    "        \n",
    "        else:\n",
    "        \n",
    "            date_start, date_end = index + 4, index + 11\n",
    "        \n",
    "            # Slice url for date and add to list\n",
    "            date = url[date_start: date_end].replace('-','_')\n",
    "            dates.append(date)\n",
    "        \n",
    "    return dates\n",
    "\n",
    "\n",
    "example = [transcript_urls[0]]\n",
    "\n",
    "get_dates(example)"
   ]
  },
  {
   "cell_type": "code",
   "execution_count": 36,
   "metadata": {
    "ExecuteTime": {
     "end_time": "2020-11-29T07:38:28.933610Z",
     "start_time": "2020-11-29T07:38:28.916700Z"
    }
   },
   "outputs": [
    {
     "data": {
      "text/plain": [
       "['transcripts/most-popular/ARWR_q4_2020.txt',\n",
       " 'transcripts/most-popular/PLTR_ps://se.txt',\n",
       " 'transcripts/most-popular/CRNT_q3_2020.txt',\n",
       " 'transcripts/most-popular/KNOP_q3_2020.txt',\n",
       " 'transcripts/most-popular/T_ps://se.txt',\n",
       " 'transcripts/most-popular/JWN_q3_2020.txt',\n",
       " 'transcripts/most-popular/BZUN_q3_2020.txt',\n",
       " 'transcripts/most-popular/AAPL_q4_2020.txt',\n",
       " 'transcripts/most-popular/NTNX_q1_2021.txt',\n",
       " 'transcripts/most-popular/JMIA_q3_2020.txt',\n",
       " 'transcripts/most-popular/FRO_q3_2020.txt',\n",
       " 'transcripts/most-popular/NVDA_q3_2021.txt',\n",
       " 'transcripts/most-popular/PSHZF_q3_2020.txt',\n",
       " 'transcripts/most-popular/DQ_q3_2020.txt',\n",
       " 'transcripts/most-popular/ADSK_q3_2021.txt',\n",
       " 'transcripts/most-popular/VMW_q3_2021.txt',\n",
       " 'transcripts/most-popular/MNR_q4_2020.txt',\n",
       " 'transcripts/most-popular/DELL_ps://se.txt',\n",
       " 'transcripts/most-popular/NIO_q3_2020.txt',\n",
       " 'transcripts/most-popular/BBY_q3_2021.txt',\n",
       " 'transcripts/most-popular/CXW_q3_2020.txt',\n",
       " 'transcripts/most-popular/NIU_q3_2020.txt',\n",
       " 'transcripts/most-popular/OSTK_q3_2020.txt',\n",
       " 'transcripts/most-popular/FLGT_q3_2020.txt',\n",
       " 'transcripts/most-popular/PLNHF_ps://se.txt',\n",
       " 'transcripts/most-popular/SE_q3_2020.txt',\n",
       " 'transcripts/most-popular/AAPL_q3_2020.txt',\n",
       " 'transcripts/most-popular/PSTG_q3_2021.txt',\n",
       " 'transcripts/most-popular/HP_q4_2020.txt',\n",
       " 'transcripts/most-popular/ADI_q4_2020.txt',\n",
       " 'transcripts/most-popular/GSX_q3_2020.txt',\n",
       " 'transcripts/most-popular/MDT_q2_2021.txt',\n",
       " 'transcripts/most-popular/TWST_q4_2020.txt',\n",
       " 'transcripts/most-popular/MMP_ps://se.txt',\n",
       " 'transcripts/most-popular/LODE_q3_2020.txt',\n",
       " 'transcripts/most-popular/XIACF_q3_2020.txt',\n",
       " 'transcripts/most-popular/SPG_q3_2020.txt',\n",
       " 'transcripts/most-popular/AAPL_q2_2020.txt',\n",
       " 'transcripts/most-popular/WYY_q3_2020.txt',\n",
       " 'transcripts/most-popular/BIDU_q3_2020.txt',\n",
       " 'transcripts/most-popular/AAPL_q1_2020.txt',\n",
       " 'transcripts/most-popular/PROSY_q2_2021.txt',\n",
       " 'transcripts/most-popular/FMCC_q1_2020.txt',\n",
       " 'transcripts/most-popular/FMCC_q3_2020.txt',\n",
       " 'transcripts/most-popular/FMCC_q2_2020.txt',\n",
       " 'transcripts/most-popular/WDAY_q3_2021.txt',\n",
       " 'transcripts/most-popular/FMCC_q4_2019.txt',\n",
       " 'transcripts/most-popular/DLTR_q3_2020.txt',\n",
       " 'transcripts/most-popular/FUTU_q3_2020.txt',\n",
       " 'transcripts/most-popular/VLDR_q3_2020.txt']"
      ]
     },
     "execution_count": 36,
     "metadata": {},
     "output_type": "execute_result"
    }
   ],
   "source": [
    "# Extract ticker symbol, and date of earnings call \n",
    "ticker_symbols = get_tickers(transcript_elements)\n",
    "call_dates = get_dates(transcript_urls)\n",
    "\n",
    "# Generate filenames for each transcript using date/symbol\n",
    "filenames = get_filenames(ticker_symbols, call_dates)\n",
    "\n",
    "\n",
    "filenames"
   ]
  },
  {
   "cell_type": "code",
   "execution_count": 41,
   "metadata": {
    "ExecuteTime": {
     "end_time": "2020-11-29T07:40:39.954784Z",
     "start_time": "2020-11-29T07:40:39.948838Z"
    }
   },
   "outputs": [
    {
     "data": {
      "text/plain": [
       "'https://seekingalpha.com/article/4390644-t-inc-t-presents-morgan-stanley-tmt-broker-conference-call-transcript'"
      ]
     },
     "execution_count": 41,
     "metadata": {},
     "output_type": "execute_result"
    }
   ],
   "source": [
    "transcript_urls[4]"
   ]
  },
  {
   "cell_type": "code",
   "execution_count": 40,
   "metadata": {
    "ExecuteTime": {
     "end_time": "2020-11-29T07:40:21.575809Z",
     "start_time": "2020-11-29T07:40:21.567979Z"
    }
   },
   "outputs": [
    {
     "name": "stdout",
     "output_type": "stream",
     "text": [
      "-1\n"
     ]
    },
    {
     "data": {
      "text/plain": [
       "['ps://se']"
      ]
     },
     "execution_count": 40,
     "metadata": {},
     "output_type": "execute_result"
    }
   ],
   "source": [
    "get_dates([transcript_urls[4]])"
   ]
  },
  {
   "cell_type": "markdown",
   "metadata": {},
   "source": [
    "### The next code uses the updated get_dates function "
   ]
  },
  {
   "cell_type": "code",
   "execution_count": 51,
   "metadata": {
    "ExecuteTime": {
     "end_time": "2020-11-29T07:59:39.374462Z",
     "start_time": "2020-11-29T07:59:39.341243Z"
    },
    "code_folding": [
     0
    ]
   },
   "outputs": [
    {
     "data": {
      "text/plain": [
       "['transcripts/most-popular/ARWR_q4_2020.txt',\n",
       " 'transcripts/most-popular/PLTR_unknown_date.txt',\n",
       " 'transcripts/most-popular/CRNT_q3_2020.txt',\n",
       " 'transcripts/most-popular/KNOP_q3_2020.txt',\n",
       " 'transcripts/most-popular/T_unknown_date.txt',\n",
       " 'transcripts/most-popular/JWN_q3_2020.txt',\n",
       " 'transcripts/most-popular/BZUN_q3_2020.txt',\n",
       " 'transcripts/most-popular/AAPL_q4_2020.txt',\n",
       " 'transcripts/most-popular/NTNX_q1_2021.txt',\n",
       " 'transcripts/most-popular/JMIA_q3_2020.txt',\n",
       " 'transcripts/most-popular/FRO_q3_2020.txt',\n",
       " 'transcripts/most-popular/NVDA_q3_2021.txt',\n",
       " 'transcripts/most-popular/PSHZF_q3_2020.txt',\n",
       " 'transcripts/most-popular/DQ_q3_2020.txt',\n",
       " 'transcripts/most-popular/ADSK_q3_2021.txt',\n",
       " 'transcripts/most-popular/VMW_q3_2021.txt',\n",
       " 'transcripts/most-popular/MNR_q4_2020.txt',\n",
       " 'transcripts/most-popular/DELL_unknown_date.txt',\n",
       " 'transcripts/most-popular/NIO_q3_2020.txt',\n",
       " 'transcripts/most-popular/BBY_q3_2021.txt',\n",
       " 'transcripts/most-popular/CXW_q3_2020.txt',\n",
       " 'transcripts/most-popular/NIU_q3_2020.txt',\n",
       " 'transcripts/most-popular/OSTK_q3_2020.txt',\n",
       " 'transcripts/most-popular/FLGT_q3_2020.txt',\n",
       " 'transcripts/most-popular/PLNHF_unknown_date.txt',\n",
       " 'transcripts/most-popular/SE_q3_2020.txt',\n",
       " 'transcripts/most-popular/AAPL_q3_2020.txt',\n",
       " 'transcripts/most-popular/PSTG_q3_2021.txt',\n",
       " 'transcripts/most-popular/HP_q4_2020.txt',\n",
       " 'transcripts/most-popular/ADI_q4_2020.txt',\n",
       " 'transcripts/most-popular/GSX_q3_2020.txt',\n",
       " 'transcripts/most-popular/MDT_q2_2021.txt',\n",
       " 'transcripts/most-popular/TWST_q4_2020.txt',\n",
       " 'transcripts/most-popular/MMP_unknown_date.txt',\n",
       " 'transcripts/most-popular/LODE_q3_2020.txt',\n",
       " 'transcripts/most-popular/XIACF_q3_2020.txt',\n",
       " 'transcripts/most-popular/SPG_q3_2020.txt',\n",
       " 'transcripts/most-popular/AAPL_q2_2020.txt',\n",
       " 'transcripts/most-popular/WYY_q3_2020.txt',\n",
       " 'transcripts/most-popular/BIDU_q3_2020.txt',\n",
       " 'transcripts/most-popular/AAPL_q1_2020.txt',\n",
       " 'transcripts/most-popular/PROSY_q2_2021.txt',\n",
       " 'transcripts/most-popular/FMCC_q1_2020.txt',\n",
       " 'transcripts/most-popular/FMCC_q3_2020.txt',\n",
       " 'transcripts/most-popular/FMCC_q2_2020.txt',\n",
       " 'transcripts/most-popular/WDAY_q3_2021.txt',\n",
       " 'transcripts/most-popular/FMCC_q4_2019.txt',\n",
       " 'transcripts/most-popular/DLTR_q3_2020.txt',\n",
       " 'transcripts/most-popular/FUTU_q3_2020.txt',\n",
       " 'transcripts/most-popular/VLDR_q3_2020.txt']"
      ]
     },
     "execution_count": 51,
     "metadata": {},
     "output_type": "execute_result"
    }
   ],
   "source": [
    "from scraping import get_elements,get_urls,get_tickers,get_dates,get_filenames\n",
    "\n",
    "\n",
    "\n",
    "def get_dates(urls):\n",
    "    \"\"\"\n",
    "    \n",
    "    Extract quarter/fiscal year from the url address\n",
    "    \n",
    "    \"\"\"\n",
    "    \n",
    "    dates = []\n",
    "    \n",
    "    for url in urls:\n",
    "        \n",
    "        # Get index for str pattern preceding quarter/date\n",
    "        index = url.find('-on-q')\n",
    "        \n",
    "\n",
    "        if index == -1:\n",
    "\n",
    "            # Account for urls that do not match the pattern    \n",
    "            dates.append('unknown_date')\n",
    "        \n",
    "        else:\n",
    "        \n",
    "            # Get index range for date pattern\n",
    "            date_start, date_end = index + 4, index + 11\n",
    "        \n",
    "            # Slice url for date and add to list\n",
    "            date = url[date_start: date_end].replace('-','_')\n",
    "            dates.append(date)\n",
    "        \n",
    "    return dates\n",
    "\n",
    "\n",
    "# Get elements, and parse for links\n",
    "transcript_elements = get_elements(soup)\n",
    "transcript_urls = get_urls(transcript_elements)\n",
    "\n",
    "# Extract ticker symbol, and date of earnings call \n",
    "ticker_symbols = get_tickers(transcript_elements)\n",
    "call_dates = get_dates(transcript_urls)\n",
    "\n",
    "# Generate filenames for each transcript using date/symbol\n",
    "filenames = get_filenames(ticker_symbols, call_dates)\n",
    "\n",
    "filenames"
   ]
  },
  {
   "cell_type": "markdown",
   "metadata": {},
   "source": [
    "## Conclusion\n",
    "---\n",
    "The code should work now"
   ]
  }
 ],
 "metadata": {
  "kernelspec": {
   "display_name": "Python 3",
   "language": "python",
   "name": "python3"
  },
  "language_info": {
   "codemirror_mode": {
    "name": "ipython",
    "version": 3
   },
   "file_extension": ".py",
   "mimetype": "text/x-python",
   "name": "python",
   "nbconvert_exporter": "python",
   "pygments_lexer": "ipython3",
   "version": "3.7.8"
  }
 },
 "nbformat": 4,
 "nbformat_minor": 4
}
