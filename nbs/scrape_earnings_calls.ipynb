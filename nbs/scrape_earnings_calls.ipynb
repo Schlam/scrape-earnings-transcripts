{
 "cells": [
  {
   "cell_type": "markdown",
   "metadata": {
    "ExecuteTime": {
     "end_time": "2020-11-12T03:03:08.784750Z",
     "start_time": "2020-11-12T03:03:08.775406Z"
    }
   },
   "source": [
    "## Earnings Call ETL\n",
    "---\n",
    "[Seeking Alpha](https://seekingalpha.com) has a collection of earnings call\n",
    "transcripts and audio recordings publicly available [here](https://seekingalpha.com/earnings/earnings-call-transcripts)\n",
    "\n",
    "This notebook creates an end-to-end pipeline; saving each transcript as a .txt file in a local database\n",
    "\n"
   ]
  },
  {
   "cell_type": "markdown",
   "metadata": {},
   "source": [
    "### Parse earnings call transcript page"
   ]
  },
  {
   "cell_type": "code",
   "execution_count": 1,
   "metadata": {
    "ExecuteTime": {
     "end_time": "2020-11-13T08:03:42.456367Z",
     "start_time": "2020-11-13T08:03:36.902869Z"
    }
   },
   "outputs": [],
   "source": [
    "# from splinter import Browser\n",
    "from scraping import config_browser\n",
    "from bs4 import BeautifulSoup as Soup\n",
    "\n",
    "\n",
    "# Earnings call transcripts webpage\n",
    "url = \"https://seekingalpha.com/earnings/earnings-call-transcripts\"\n",
    "\n",
    "# Configure browser and visit webpage\n",
    "browser = config_browser()\n",
    "browser.visit(url)\n",
    "\n",
    "# Parse html using BeautifulSoup\n",
    "html = browser.html\n",
    "soup = Soup(html, 'html.parser')"
   ]
  },
  {
   "cell_type": "markdown",
   "metadata": {},
   "source": [
    "### Get list of urls for each earnings call"
   ]
  },
  {
   "cell_type": "code",
   "execution_count": 11,
   "metadata": {
    "ExecuteTime": {
     "end_time": "2020-11-13T08:09:33.429538Z",
     "start_time": "2020-11-13T08:09:33.413295Z"
    }
   },
   "outputs": [
    {
     "name": "stdout",
     "output_type": "stream",
     "text": [
      "HTML elements containing links to earnings call\n",
      " [<li class=\"list-group-item article\" data-id=\"4388740\" data-published=\"1605254107\">\n",
      "<h3 class=\"list-group-item-heading\">\n",
      "<a class=\"dashboard-article-link\" href=\"/article/4388740-deutsche-telekom-ag-dtegf-ceo-timotheus-hottges-on-q3-2020-results-earnings-call-transcript\" sasource=\"earnings-center-transcripts_article\">Deutsche Telekom AG (DTEGF) CEO Timotheus Höttges on Q3 2020 Results - Earnings Call Transcript</a>\n",
      "</h3>\n",
      "<div class=\"article-desc\">\n",
      "<span class=\"article-symbols\"><a href=\"/symbol/DTEGF\" sasource=\"earnings-center-transcripts_symbol\" title=\"Deutsche Telekom AG\">DTEGF</a>, <a href=\"/symbol/DTEGY\" sasource=\"earnings-center-transcripts_symbol\" title=\"Deutsche Telekom AG\">DTEGY</a></span><span class=\"bullet\">•</span>\n",
      "      Fri, Nov. 13,  2:55 AM\n",
      "\n",
      "        <span>•</span>\n",
      "<a href=\"/author/sa-transcripts\" sasource=\"earnings-center-transcripts_author\">SA Transcripts</a>\n",
      "</div>\n",
      "</li>, <li class=\"list-group-item article\" data-id=\"4388737\" data-published=\"1605252066\">\n",
      "<h3 class=\"list-group-item-heading\">\n",
      "<a class=\"dashboard-article-link\" href=\"/article/4388737-american-wells-amwl-ceo-ido-schoenberg-on-q3-2020-results-earnings-call-transcript\" sasource=\"earnings-center-transcripts_article\">American Well's (AMWL) CEO Ido Schoenberg on Q3 2020 Results - Earnings Call Transcript</a>\n",
      "</h3>\n",
      "<div class=\"article-desc\">\n",
      "<span class=\"article-symbols\"><a href=\"/symbol/AMWL\" sasource=\"earnings-center-transcripts_symbol\" title=\"American Well Corporation\">AMWL</a></span><span class=\"bullet\">•</span>\n",
      "      Fri, Nov. 13,  2:21 AM\n",
      "\n",
      "        <span>•</span>\n",
      "<a href=\"/author/sa-transcripts\" sasource=\"earnings-center-transcripts_author\">SA Transcripts</a>\n",
      "</div>\n",
      "</li>]\n",
      "\n",
      "Links to pages containing call transcripts ['https://seekingalpha.com/article/4388740-deutsche-telekom-ag-dtegf-ceo-timotheus-hottges-on-q3-2020-results-earnings-call-transcript', 'https://seekingalpha.com/article/4388737-american-wells-amwl-ceo-ido-schoenberg-on-q3-2020-results-earnings-call-transcript']\n"
     ]
    }
   ],
   "source": [
    "from scraping import get_transcript_elements\n",
    "from scraping import get_transcript_urls\n",
    "\n",
    "\n",
    "# Get HTML elements containing pertinant data\n",
    "transcript_elements = get_transcript_elements(soup)\n",
    "\n",
    "print(\"HTML elements containing links to earnings call\\n\",\n",
    "      transcript_elements[:2])\n",
    "\n",
    "# Parse html for 'src' tag and return list of urls for each call\n",
    "transcript_urls = get_transcript_urls(transcript_elements)\n",
    "\n",
    "print(\"\\nLinks to pages containing call transcripts\",\n",
    "      transcript_urls[:2])"
   ]
  },
  {
   "cell_type": "markdown",
   "metadata": {},
   "source": [
    "### Get transcript for a single earnings call"
   ]
  },
  {
   "cell_type": "code",
   "execution_count": 13,
   "metadata": {
    "ExecuteTime": {
     "end_time": "2020-11-13T08:10:19.343747Z",
     "start_time": "2020-11-13T08:10:19.337731Z"
    }
   },
   "outputs": [
    {
     "data": {
      "text/plain": [
       "'https://seekingalpha.com/article/4388740-deutsche-telekom-ag-dtegf-ceo-timotheus-hottges-on-q3-2020-results-earnings-call-transcript'"
      ]
     },
     "execution_count": 13,
     "metadata": {},
     "output_type": "execute_result"
    }
   ],
   "source": [
    "# Select one url from list\n",
    "url = transcript_urls[0]\n",
    "url"
   ]
  },
  {
   "cell_type": "code",
   "execution_count": 17,
   "metadata": {
    "ExecuteTime": {
     "end_time": "2020-11-13T08:12:01.506765Z",
     "start_time": "2020-11-13T08:11:58.976244Z"
    }
   },
   "outputs": [
    {
     "data": {
      "text/plain": [
       "[<p class=\"p p1\">Deutsche Telekom AG <span class=\"ticker-hover-wrapper\">(<a class=\"ticker-link\" data_retrieved=\"0\" href=\"https://seekingalpha.com/symbol/DTEGF\" symbol=\"DTEGF\">OTCQX:DTEGF</a>)</span> Q3 2020 Earnings Conference Call November 12, 2020  8:00 AM ET</p>,\n",
       " <p class=\"p p1\"><strong>Company Participants</strong></p>,\n",
       " <p class=\"p p1\">Hannes Wittig - Head, Investor Relations</p>,\n",
       " <p class=\"p p1\">Timotheus Höttges - Chief Executive Officer</p>,\n",
       " <p class=\"p p1\">Christian Illek - Chief Financial Officer</p>,\n",
       " <p class=\"p p1\"><strong>Conference Call Participants</strong></p>,\n",
       " <p class=\"p p1\">Polo Tang - UBS</p>,\n",
       " <p class=\"p p1\">Frederic Boulan - Bank of America Merrill Lynch</p>,\n",
       " <p class=\"p p1\">Ulrich Rathe - Jefferies International</p>,\n",
       " <p class=\"p p1\">Joshua Mills - Exane BNP Paribas</p>,\n",
       " <p class=\"p p1\">Akhil Dattani - J.P. Morgan</p>,\n",
       " <p class=\"p p1\">Christian Fangmann - HSBC Bank</p>,\n",
       " <p class=\"p p1\">Robert Grindle - Deutsche Bank</p>,\n",
       " <p class=\"p p1\">Jacob Bluestone - Credit Suisse</p>,\n",
       " <p class=\"p p1\">James Ratzer - New Street Research</p>,\n",
       " <p class=\"p p1\">Usman Ghazi - Berenberg</p>,\n",
       " <p class=\"p p1\"><strong>Operator</strong></p>,\n",
       " <p class=\"p p1\">Good afternoon and welcome to Deutsche Telekom's Conference Call. At our customer's request, this conference will be recorded and uploaded to the Internet. May I now hand you over to Mr. Hannes Wittig. </p>,\n",
       " <p class=\"p p1\"><strong>Hannes Wittig</strong></p>,\n",
       " <p class=\"p p1\">Good afternoon, everyone. And welcome to our third quarter 2020 conference call. With me today are our CEO, Tim Höttges, and our CFO, Christian Illek. Tim, as usual, will first go through a few highlights year-to-date, including our raised guidance. And this will be followed by Christian who will talk about the quarter's financials in more detail. And then, we have time for Q&amp;A. </p>,\n",
       " <p class=\"p p1\">And as usual, before I hand over to Tim, please pay attention to our disclaimer which you'll find in the presentation. And now, it's my great pleasure to hand over to Tim.</p>,\n",
       " <p class=\"p p1\"><strong>Timotheus Höttges</strong></p>,\n",
       " <p class=\"p p1\">High-five, guys. So, welcome from my side here for great quarter of Deutsche Telekom. Another good outlook for the remainder of the year and the future we're having. I want to share some of the highlights with you today and our strong results, which we have presented earlier this morning. </p>,\n",
       " <p class=\"p p1\">As usual, my overview will be followed then by Christian and then we go deeper into the questionnaires. </p>,\n",
       " <p class=\"p p1\">This was a good quarter, as I mentioned, on both sides of the Atlantic. Strong commercials, a lot of progress with the merger and underlying strong financials. </p>,\n",
       " <p class=\"p p1\">The most important thing for me, we are growing, and this despite COVID. I think this tanker is on its way through a storm and in a very, very clear way. And I'm very happy about commitment of our people to this. </p>,\n",
       " <p class=\"p p1\">We're investing, at the same time, with €17 billion, record high levels. And this despite COVID. So, we are not negatively entangled by that.</p>,\n",
       " <p class=\"p p1\">In the US, we made great progress with the Sprint integration. You saw the numbers already. And with the rollout of our 5G services. We are well ahead of AT&amp;T and Verizon. </p>,\n",
       " <p class=\"p p1\">We raised our full-year guidance. On this side of the Atlantic, we continue to deliver commercial and financial growth. And here, too, we raised our full-year guidance as well. So, that makes it a good story for whole Deutsche Telekom. Germany has grown, 16 quarters, EBITDA in a row now. And the Euro segment grows 11 quarters in a row. So, I think that shows you the good performance. </p>,\n",
       " <p class=\"p p1\">Our commercials remain strong. We added 97,000 broadband customers in Germany. On the broadband side, our line losses are down by two-thirds, 45,000. So, this is almost nothing this quarter compared to the history. And we achieved a Grand Slam of German service awards. </p>,\n",
       " <p class=\"p p1\">Look, I would say every company, every telco would name them. We have so many awards that I cannot list them here. But I will definitely do that in the Capital Markets Day. I show you at least how we are outperforming our competition. And just today, we got another award. There was a big network drive test made in seven categories. Deutsche Telekom won six out of them. So, from a network perspective, there's no one as even close to our performance these days. </p>,\n",
       " <p class=\"p p1\">We ended the benchmark wholesale agreement with Telefónica Deutschland, which is helping us to improve our commercials around the FTTH rollout going forward, and this is even helping us big time in our credibility towards regulators. </p>]"
      ]
     },
     "execution_count": 17,
     "metadata": {},
     "output_type": "execute_result"
    }
   ],
   "source": [
    "# Visit url\n",
    "browser.visit(url)\n",
    "\n",
    "# Parse with BeautifulSoup\n",
    "soup = Soup(browser.html, 'html.parser')\n",
    "\n",
    "# Get 'main_content' element\n",
    "main_content = soup.find('div', {'id':'main_content'})\n",
    "\n",
    "# HTML containing transcript\n",
    "main_content.find_all('p', {'class':'p1'})"
   ]
  },
  {
   "cell_type": "markdown",
   "metadata": {},
   "source": [
    "### Reflections "
   ]
  },
  {
   "cell_type": "markdown",
   "metadata": {
    "ExecuteTime": {
     "end_time": "2020-11-12T05:32:04.647292Z",
     "start_time": "2020-11-12T05:32:04.638519Z"
    }
   },
   "source": [
    "This can be easily modified to iterate through all our urls\n",
    "in order to scrape the entire collection\n"
   ]
  }
 ],
 "metadata": {
  "kernelspec": {
   "display_name": "Python 3",
   "language": "python",
   "name": "python3"
  },
  "language_info": {
   "codemirror_mode": {
    "name": "ipython",
    "version": 3
   },
   "file_extension": ".py",
   "mimetype": "text/x-python",
   "name": "python",
   "nbconvert_exporter": "python",
   "pygments_lexer": "ipython3",
   "version": "3.7.8"
  }
 },
 "nbformat": 4,
 "nbformat_minor": 4
}
