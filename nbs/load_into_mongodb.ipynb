{
 "cells": [
  {
   "cell_type": "code",
   "execution_count": 1,
   "metadata": {
    "ExecuteTime": {
     "end_time": "2020-12-07T22:33:36.240973Z",
     "start_time": "2020-12-07T22:33:36.126802Z"
    }
   },
   "outputs": [],
   "source": [
    "from pymongo import MongoClient\n",
    "\n",
    "\n",
    "\n",
    "def connect_database(db_name, port = 27017):\n",
    "\n",
    "    # URI for database\n",
    "    URI = f'mongodb://localhost:{port}'\n",
    "\n",
    "    try:\n",
    "        \n",
    "        # Create client\n",
    "        client = MongoClient(URI)\n",
    "\n",
    "        # Connect to database\n",
    "        database = client[db_name]\n",
    "        print(\"Successfully connected to database\")\n",
    "        \n",
    "\n",
    "    except Exception as e:\n",
    "        \n",
    "        database = None\n",
    "        # Handle database connection error\n",
    "        print(f\"{type(e)}: Failed connecting to {URI}\\nError message: {e}\")\n",
    "        \n",
    "    return database"
   ]
  },
  {
   "cell_type": "code",
   "execution_count": 2,
   "metadata": {
    "ExecuteTime": {
     "end_time": "2020-12-07T22:33:36.252344Z",
     "start_time": "2020-12-07T22:33:36.244618Z"
    }
   },
   "outputs": [],
   "source": [
    "from datetime import datetime as dt\n",
    "\n",
    "\n",
    "\n",
    "def get_datetime():\n",
    "    # Get date/time \n",
    "    today = dt.today() # today\n",
    "    date = today.date().strftime('%D') # todays date\n",
    "    time = today.time().strftime(\"%H:%M\") # current time\n",
    "\n",
    "\n",
    "    datetime = f'{date}_{time}'\n",
    "\n",
    "    return datetime"
   ]
  },
  {
   "cell_type": "code",
   "execution_count": 3,
   "metadata": {
    "ExecuteTime": {
     "end_time": "2020-12-07T22:33:36.268812Z",
     "start_time": "2020-12-07T22:33:36.256780Z"
    }
   },
   "outputs": [
    {
     "name": "stdout",
     "output_type": "stream",
     "text": [
      "FINANCIAL SECTOR: \n",
      "['PWCDF_q3_2020.txt', 'AGGZF_q3_2020.txt', 'KBCSF_q3_2020.txt', 'HMCBF_q3_2020.txt', 'VEL_q3_2020.txt', 'ITCB_q3_2020.txt', 'BANX_q3_2020.txt', 'LSGOF_q2_2021.txt', 'PLMR_q3_2020.txt', 'CWYUF_q3_2020.txt', 'WPTIF_q3_2020.txt', 'CIB_q3_2020.txt', 'ABNRY_q3_2020.txt', 'LWSCF_q3_2020.txt', 'BAM_q3_2020.txt', 'MFC_q3_2020.txt', 'LMB_q3_2020.txt', 'BSRTF_q3_2020.txt', 'MMAC_q3_2020.txt', 'ZURVY_q3_2020.txt', 'GLAD_q4_2020.txt']\n",
      "\n",
      "TECHNOLOGY SECTOR: \n",
      "['RMED_q4_2020.txt', 'OSS_q3_2020.txt', 'CSCO_q1_2021.txt', 'JAMF_q3_2020.txt', 'DLB_q4_2020.txt', 'DGII_q4_2020.txt', 'AMAT_q4_2020.txt', 'SWIR_q3_2020.txt', 'INTZ_q3_2020.txt', 'INPX_q3_2020.txt', 'LMPX_q3_2020.txt']\n",
      "\n",
      "HEALTHCARE SECTOR: \n",
      "['NBY_q3_2020.txt', 'CTEK_q3_2020.txt', 'OPNT_q3_2020.txt', 'BIOL_q3_2020.txt', 'MOTS_q3_2020.txt', 'AWH_q3_2020.txt', 'AGRX_q3_2020.txt', 'RMED_q4_2020.txt', 'NAVB_q3_2020.txt', 'CAPR_q3_2020.txt', 'NARI_q3_2020.txt', 'INMD_q3_2020.txt', 'ONTX_q3_2020.txt', 'HSDT_q3_2020.txt', 'ETON_q3_2020.txt', 'VRNDF_q3_2020.txt', 'DARE_q3_2020.txt', 'ALPN_q3_2020.txt', 'OCX_q3_2020.txt', 'MOR_q3_2020.txt', 'ACRGF_q3_2020.txt', 'RKDA_q3_2020.txt', 'ECOR_q3_2020.txt', 'BNGO_q3_2020.txt', 'VIVE_q3_2020.txt', 'RDHL_q3_2020.txt', 'APTX_q3_2020.txt', 'SNDL_q3_2020.txt', 'THMO_q3_2020.txt', 'BBI_q3_2020.txt']\n",
      "\n"
     ]
    }
   ],
   "source": [
    "import os\n",
    "\n",
    "\n",
    "# Get non-hidden directories\n",
    "sectors = [directory \n",
    "           for directory in os.listdir('transcripts')\n",
    "           if '.' not in directory\n",
    "           and 'popular' not in directory]\n",
    "\n",
    "\n",
    "for sector in sectors:\n",
    "    \n",
    "    sector_transcripts = os.listdir(f\"transcripts/{sector}\")\n",
    "    print(f\"{sector.upper()} SECTOR: \\n{sector_transcripts}\\n\")\n",
    "    "
   ]
  },
  {
   "cell_type": "code",
   "execution_count": 4,
   "metadata": {
    "ExecuteTime": {
     "end_time": "2020-12-07T22:33:36.304290Z",
     "start_time": "2020-12-07T22:33:36.273457Z"
    },
    "scrolled": true
   },
   "outputs": [],
   "source": [
    "\n",
    "def get_earnings_call_dict(verbose=False):\n",
    "    \n",
    "    \n",
    "    transcripts_by_sector = {}\n",
    "\n",
    "    for sector in sectors:\n",
    "\n",
    "\n",
    "        dirname = f\"transcripts/{sector}\"\n",
    "        sector_transcripts = os.listdir(dirname)\n",
    "        earnings_calls = []\n",
    "\n",
    "        print(f\"Writing data for {sector} sector:\") if verbose else None\n",
    "\n",
    "        for transcript in sector_transcripts:\n",
    "\n",
    "            fname = f\"{dirname}/{transcript}\"\n",
    "            ind = transcript.find('_')\n",
    "            name = transcript[:ind]\n",
    "            q = transcript[ind+1:-4]\n",
    "\n",
    "\n",
    "            with open(fname,'r') as f:\n",
    "                text = f.read()   \n",
    "            \n",
    "            earnings_call_obj = {\n",
    "                \"name\":name, \n",
    "                \"quarter\":q,\n",
    "                \"transcript\":text\n",
    "            }\n",
    "\n",
    "            earnings_calls.append(earnings_call_obj)\n",
    "\n",
    "            print(f\"${name}, {q} written\") if verbose else None\n",
    "\n",
    "        transcripts_by_sector[sector] = earnings_calls\n",
    "        print(f\"Finished {sector} data\\n\") if verbose else None\n",
    "\n",
    "    print(\"Finished writing all transcripts\")\n",
    "    \n",
    "    return transcripts_by_sector"
   ]
  },
  {
   "cell_type": "code",
   "execution_count": 5,
   "metadata": {
    "ExecuteTime": {
     "end_time": "2020-12-07T22:33:36.327565Z",
     "start_time": "2020-12-07T22:33:36.307892Z"
    }
   },
   "outputs": [
    {
     "data": {
      "text/plain": [
       "['financial', 'technology', 'healthcare']"
      ]
     },
     "execution_count": 5,
     "metadata": {},
     "output_type": "execute_result"
    }
   ],
   "source": [
    "sectors"
   ]
  },
  {
   "cell_type": "code",
   "execution_count": 6,
   "metadata": {
    "ExecuteTime": {
     "end_time": "2020-12-07T22:33:36.339484Z",
     "start_time": "2020-12-07T22:33:36.331015Z"
    }
   },
   "outputs": [],
   "source": [
    "\n",
    "def save_to_database(data, db, time):\n",
    "    \n",
    "    \n",
    "    for sector,earnings_call_objects in data.items():\n",
    "        \n",
    "        sector_collection = db[sector]\n",
    "        sector_collection.insert_one({\n",
    "            'sector': sector,\n",
    "            'earnings_calls': earnings_call_objects,\n",
    "            'time_added': time\n",
    "        })\n",
    "        \n",
    "        \n",
    "    print(\"Successfully saved to database\")"
   ]
  },
  {
   "cell_type": "code",
   "execution_count": 7,
   "metadata": {
    "ExecuteTime": {
     "end_time": "2020-12-07T22:33:36.405428Z",
     "start_time": "2020-12-07T22:33:36.343891Z"
    }
   },
   "outputs": [
    {
     "name": "stdout",
     "output_type": "stream",
     "text": [
      "Writing data for financial sector:\n",
      "$PWCDF, q3_2020 written\n",
      "$AGGZF, q3_2020 written\n",
      "$KBCSF, q3_2020 written\n",
      "$HMCBF, q3_2020 written\n",
      "$VEL, q3_2020 written\n",
      "$ITCB, q3_2020 written\n",
      "$BANX, q3_2020 written\n",
      "$LSGOF, q2_2021 written\n",
      "$PLMR, q3_2020 written\n",
      "$CWYUF, q3_2020 written\n",
      "$WPTIF, q3_2020 written\n",
      "$CIB, q3_2020 written\n",
      "$ABNRY, q3_2020 written\n",
      "$LWSCF, q3_2020 written\n",
      "$BAM, q3_2020 written\n",
      "$MFC, q3_2020 written\n",
      "$LMB, q3_2020 written\n",
      "$BSRTF, q3_2020 written\n",
      "$MMAC, q3_2020 written\n",
      "$ZURVY, q3_2020 written\n",
      "$GLAD, q4_2020 written\n",
      "Finished financial data\n",
      "\n",
      "Writing data for technology sector:\n",
      "$RMED, q4_2020 written\n",
      "$OSS, q3_2020 written\n",
      "$CSCO, q1_2021 written\n",
      "$JAMF, q3_2020 written\n",
      "$DLB, q4_2020 written\n",
      "$DGII, q4_2020 written\n",
      "$AMAT, q4_2020 written\n",
      "$SWIR, q3_2020 written\n",
      "$INTZ, q3_2020 written\n",
      "$INPX, q3_2020 written\n",
      "$LMPX, q3_2020 written\n",
      "Finished technology data\n",
      "\n",
      "Writing data for healthcare sector:\n",
      "$NBY, q3_2020 written\n",
      "$CTEK, q3_2020 written\n",
      "$OPNT, q3_2020 written\n",
      "$BIOL, q3_2020 written\n",
      "$MOTS, q3_2020 written\n",
      "$AWH, q3_2020 written\n",
      "$AGRX, q3_2020 written\n",
      "$RMED, q4_2020 written\n",
      "$NAVB, q3_2020 written\n",
      "$CAPR, q3_2020 written\n",
      "$NARI, q3_2020 written\n",
      "$INMD, q3_2020 written\n",
      "$ONTX, q3_2020 written\n",
      "$HSDT, q3_2020 written\n",
      "$ETON, q3_2020 written\n",
      "$VRNDF, q3_2020 written\n",
      "$DARE, q3_2020 written\n",
      "$ALPN, q3_2020 written\n",
      "$OCX, q3_2020 written\n",
      "$MOR, q3_2020 written\n",
      "$ACRGF, q3_2020 written\n",
      "$RKDA, q3_2020 written\n",
      "$ECOR, q3_2020 written\n",
      "$BNGO, q3_2020 written\n",
      "$VIVE, q3_2020 written\n",
      "$RDHL, q3_2020 written\n",
      "$APTX, q3_2020 written\n",
      "$SNDL, q3_2020 written\n",
      "$THMO, q3_2020 written\n",
      "$BBI, q3_2020 written\n",
      "Finished healthcare data\n",
      "\n",
      "Finished writing all transcripts\n",
      "Successfully connected to database\n",
      "Successfully saved to database\n"
     ]
    }
   ],
   "source": [
    "DATABASE_NAME = 'earnings_call_transcripts'\n",
    "\n",
    "\n",
    "earnings_call_dict = get_earnings_call_dict(verbose=True)\n",
    "earning_call_db = connect_database(DATABASE_NAME)\n",
    "datetime = get_datetime()\n",
    "\n",
    "\n",
    "save_to_database(\n",
    "    data = earnings_call_dict,\n",
    "    db = earning_call_db, \n",
    "    time = datetime\n",
    ")"
   ]
  }
 ],
 "metadata": {
  "kernelspec": {
   "display_name": "Python 3",
   "language": "python",
   "name": "python3"
  },
  "language_info": {
   "codemirror_mode": {
    "name": "ipython",
    "version": 3
   },
   "file_extension": ".py",
   "mimetype": "text/x-python",
   "name": "python",
   "nbconvert_exporter": "python",
   "pygments_lexer": "ipython3",
   "version": "3.7.8"
  }
 },
 "nbformat": 4,
 "nbformat_minor": 4
}
